{
 "cells": [
  {
   "cell_type": "markdown",
   "metadata": {},
   "source": [
    "# Title of the project: Analysis of current ride sharing companies"
   ]
  },
  {
   "cell_type": "markdown",
   "metadata": {},
   "source": [
    "## Introduction of the project : \n",
    "Our task is to find patterns in the available information of different ride sharing companies in Chicago and we want to understand the passenger preferences and the impact of external factors on rides. Also we test a hypothesis about the impact of weather on ride frequency.\n",
    "For this project, we divide into four steps:\n",
    "- Data intialization and loading\n",
    "- Data preprocessing\n",
    "- Exploratory data analysis\n",
    "- Testing the hypothesis"
   ]
  },
  {
   "cell_type": "markdown",
   "metadata": {},
   "source": [
    "### First stage: Data initialization and loading \n",
    "In this stage we load all the libraries needed for this project and also load various informations and understand the contents of the dataframe."
   ]
  },
  {
   "cell_type": "code",
   "execution_count": 24,
   "metadata": {},
   "outputs": [],
   "source": [
    "# Import all libraries\n",
    "import pandas as pd\n",
    "import numpy as np\n",
    "from matplotlib import pyplot as plt\n",
    "from scipy import stats as st\n",
    "from scipy.stats import ttest_ind"
   ]
  },
  {
   "cell_type": "code",
   "execution_count": 25,
   "metadata": {},
   "outputs": [
    {
     "data": {
      "text/html": [
       "<div>\n",
       "<style scoped>\n",
       "    .dataframe tbody tr th:only-of-type {\n",
       "        vertical-align: middle;\n",
       "    }\n",
       "\n",
       "    .dataframe tbody tr th {\n",
       "        vertical-align: top;\n",
       "    }\n",
       "\n",
       "    .dataframe thead th {\n",
       "        text-align: right;\n",
       "    }\n",
       "</style>\n",
       "<table border=\"1\" class=\"dataframe\">\n",
       "  <thead>\n",
       "    <tr style=\"text-align: right;\">\n",
       "      <th></th>\n",
       "      <th>company_name</th>\n",
       "      <th>trips_amount</th>\n",
       "    </tr>\n",
       "  </thead>\n",
       "  <tbody>\n",
       "    <tr>\n",
       "      <th>0</th>\n",
       "      <td>Flash Cab</td>\n",
       "      <td>19558</td>\n",
       "    </tr>\n",
       "    <tr>\n",
       "      <th>1</th>\n",
       "      <td>Taxi Affiliation Services</td>\n",
       "      <td>11422</td>\n",
       "    </tr>\n",
       "    <tr>\n",
       "      <th>2</th>\n",
       "      <td>Medallion Leasing</td>\n",
       "      <td>10367</td>\n",
       "    </tr>\n",
       "    <tr>\n",
       "      <th>3</th>\n",
       "      <td>Yellow Cab</td>\n",
       "      <td>9888</td>\n",
       "    </tr>\n",
       "    <tr>\n",
       "      <th>4</th>\n",
       "      <td>Taxi Affiliation Service Yellow</td>\n",
       "      <td>9299</td>\n",
       "    </tr>\n",
       "    <tr>\n",
       "      <th>...</th>\n",
       "      <td>...</td>\n",
       "      <td>...</td>\n",
       "    </tr>\n",
       "    <tr>\n",
       "      <th>59</th>\n",
       "      <td>4053 - 40193 Adwar H. Nikola</td>\n",
       "      <td>7</td>\n",
       "    </tr>\n",
       "    <tr>\n",
       "      <th>60</th>\n",
       "      <td>2733 - 74600 Benny Jona</td>\n",
       "      <td>7</td>\n",
       "    </tr>\n",
       "    <tr>\n",
       "      <th>61</th>\n",
       "      <td>5874 - 73628 Sergey Cab Corp.</td>\n",
       "      <td>5</td>\n",
       "    </tr>\n",
       "    <tr>\n",
       "      <th>62</th>\n",
       "      <td>2241 - 44667 - Felman Corp</td>\n",
       "      <td>3</td>\n",
       "    </tr>\n",
       "    <tr>\n",
       "      <th>63</th>\n",
       "      <td>3556 - 36214 RC Andrews Cab</td>\n",
       "      <td>2</td>\n",
       "    </tr>\n",
       "  </tbody>\n",
       "</table>\n",
       "<p>64 rows × 2 columns</p>\n",
       "</div>"
      ],
      "text/plain": [
       "                       company_name  trips_amount\n",
       "0                         Flash Cab         19558\n",
       "1         Taxi Affiliation Services         11422\n",
       "2                 Medallion Leasing         10367\n",
       "3                        Yellow Cab          9888\n",
       "4   Taxi Affiliation Service Yellow          9299\n",
       "..                              ...           ...\n",
       "59     4053 - 40193 Adwar H. Nikola             7\n",
       "60          2733 - 74600 Benny Jona             7\n",
       "61    5874 - 73628 Sergey Cab Corp.             5\n",
       "62       2241 - 44667 - Felman Corp             3\n",
       "63      3556 - 36214 RC Andrews Cab             2\n",
       "\n",
       "[64 rows x 2 columns]"
      ]
     },
     "metadata": {},
     "output_type": "display_data"
    }
   ],
   "source": [
    "# Load the dataframe\n",
    "df=pd.read_csv('/datasets/project_sql_result_01.csv')\n",
    "display(df)"
   ]
  },
  {
   "cell_type": "markdown",
   "metadata": {},
   "source": [
    "The df dataframe consists of 64 rows and 2 columns. The columns denotes:\n",
    "- company_name : taxi company name\n",
    "- trips_amount : the number of rides for each taxi company on November 15-16, 2017."
   ]
  },
  {
   "cell_type": "code",
   "execution_count": 26,
   "metadata": {},
   "outputs": [
    {
     "data": {
      "text/html": [
       "<div>\n",
       "<style scoped>\n",
       "    .dataframe tbody tr th:only-of-type {\n",
       "        vertical-align: middle;\n",
       "    }\n",
       "\n",
       "    .dataframe tbody tr th {\n",
       "        vertical-align: top;\n",
       "    }\n",
       "\n",
       "    .dataframe thead th {\n",
       "        text-align: right;\n",
       "    }\n",
       "</style>\n",
       "<table border=\"1\" class=\"dataframe\">\n",
       "  <thead>\n",
       "    <tr style=\"text-align: right;\">\n",
       "      <th></th>\n",
       "      <th>dropoff_location_name</th>\n",
       "      <th>average_trips</th>\n",
       "    </tr>\n",
       "  </thead>\n",
       "  <tbody>\n",
       "    <tr>\n",
       "      <th>0</th>\n",
       "      <td>Loop</td>\n",
       "      <td>10727.466667</td>\n",
       "    </tr>\n",
       "    <tr>\n",
       "      <th>1</th>\n",
       "      <td>River North</td>\n",
       "      <td>9523.666667</td>\n",
       "    </tr>\n",
       "    <tr>\n",
       "      <th>2</th>\n",
       "      <td>Streeterville</td>\n",
       "      <td>6664.666667</td>\n",
       "    </tr>\n",
       "    <tr>\n",
       "      <th>3</th>\n",
       "      <td>West Loop</td>\n",
       "      <td>5163.666667</td>\n",
       "    </tr>\n",
       "    <tr>\n",
       "      <th>4</th>\n",
       "      <td>O'Hare</td>\n",
       "      <td>2546.900000</td>\n",
       "    </tr>\n",
       "    <tr>\n",
       "      <th>...</th>\n",
       "      <td>...</td>\n",
       "      <td>...</td>\n",
       "    </tr>\n",
       "    <tr>\n",
       "      <th>89</th>\n",
       "      <td>Mount Greenwood</td>\n",
       "      <td>3.137931</td>\n",
       "    </tr>\n",
       "    <tr>\n",
       "      <th>90</th>\n",
       "      <td>Hegewisch</td>\n",
       "      <td>3.117647</td>\n",
       "    </tr>\n",
       "    <tr>\n",
       "      <th>91</th>\n",
       "      <td>Burnside</td>\n",
       "      <td>2.333333</td>\n",
       "    </tr>\n",
       "    <tr>\n",
       "      <th>92</th>\n",
       "      <td>East Side</td>\n",
       "      <td>1.961538</td>\n",
       "    </tr>\n",
       "    <tr>\n",
       "      <th>93</th>\n",
       "      <td>Riverdale</td>\n",
       "      <td>1.800000</td>\n",
       "    </tr>\n",
       "  </tbody>\n",
       "</table>\n",
       "<p>94 rows × 2 columns</p>\n",
       "</div>"
      ],
      "text/plain": [
       "   dropoff_location_name  average_trips\n",
       "0                   Loop   10727.466667\n",
       "1            River North    9523.666667\n",
       "2          Streeterville    6664.666667\n",
       "3              West Loop    5163.666667\n",
       "4                 O'Hare    2546.900000\n",
       "..                   ...            ...\n",
       "89       Mount Greenwood       3.137931\n",
       "90             Hegewisch       3.117647\n",
       "91              Burnside       2.333333\n",
       "92             East Side       1.961538\n",
       "93             Riverdale       1.800000\n",
       "\n",
       "[94 rows x 2 columns]"
      ]
     },
     "metadata": {},
     "output_type": "display_data"
    }
   ],
   "source": [
    "# Load the dataframe\n",
    "dropoff_data=pd.read_csv('/datasets/project_sql_result_04.csv')\n",
    "display(dropoff_data)"
   ]
  },
  {
   "cell_type": "markdown",
   "metadata": {},
   "source": [
    "The dropoff_data dataframe consists of 94 rows and 2 columns. The columns denotes:\n",
    "- dropoff_location_name : Chicago neighborhoods where rides ended\n",
    "- average_trips : the average number of rides that ended in each neighborhood in November 2017."
   ]
  },
  {
   "cell_type": "code",
   "execution_count": 27,
   "metadata": {},
   "outputs": [
    {
     "data": {
      "text/html": [
       "<div>\n",
       "<style scoped>\n",
       "    .dataframe tbody tr th:only-of-type {\n",
       "        vertical-align: middle;\n",
       "    }\n",
       "\n",
       "    .dataframe tbody tr th {\n",
       "        vertical-align: top;\n",
       "    }\n",
       "\n",
       "    .dataframe thead th {\n",
       "        text-align: right;\n",
       "    }\n",
       "</style>\n",
       "<table border=\"1\" class=\"dataframe\">\n",
       "  <thead>\n",
       "    <tr style=\"text-align: right;\">\n",
       "      <th></th>\n",
       "      <th>start_ts</th>\n",
       "      <th>weather_conditions</th>\n",
       "      <th>duration_seconds</th>\n",
       "    </tr>\n",
       "  </thead>\n",
       "  <tbody>\n",
       "    <tr>\n",
       "      <th>0</th>\n",
       "      <td>2017-11-25 16:00:00</td>\n",
       "      <td>Good</td>\n",
       "      <td>2410.0</td>\n",
       "    </tr>\n",
       "    <tr>\n",
       "      <th>1</th>\n",
       "      <td>2017-11-25 14:00:00</td>\n",
       "      <td>Good</td>\n",
       "      <td>1920.0</td>\n",
       "    </tr>\n",
       "    <tr>\n",
       "      <th>2</th>\n",
       "      <td>2017-11-25 12:00:00</td>\n",
       "      <td>Good</td>\n",
       "      <td>1543.0</td>\n",
       "    </tr>\n",
       "    <tr>\n",
       "      <th>3</th>\n",
       "      <td>2017-11-04 10:00:00</td>\n",
       "      <td>Good</td>\n",
       "      <td>2512.0</td>\n",
       "    </tr>\n",
       "    <tr>\n",
       "      <th>4</th>\n",
       "      <td>2017-11-11 07:00:00</td>\n",
       "      <td>Good</td>\n",
       "      <td>1440.0</td>\n",
       "    </tr>\n",
       "    <tr>\n",
       "      <th>...</th>\n",
       "      <td>...</td>\n",
       "      <td>...</td>\n",
       "      <td>...</td>\n",
       "    </tr>\n",
       "    <tr>\n",
       "      <th>1063</th>\n",
       "      <td>2017-11-25 11:00:00</td>\n",
       "      <td>Good</td>\n",
       "      <td>0.0</td>\n",
       "    </tr>\n",
       "    <tr>\n",
       "      <th>1064</th>\n",
       "      <td>2017-11-11 10:00:00</td>\n",
       "      <td>Good</td>\n",
       "      <td>1318.0</td>\n",
       "    </tr>\n",
       "    <tr>\n",
       "      <th>1065</th>\n",
       "      <td>2017-11-11 13:00:00</td>\n",
       "      <td>Good</td>\n",
       "      <td>2100.0</td>\n",
       "    </tr>\n",
       "    <tr>\n",
       "      <th>1066</th>\n",
       "      <td>2017-11-11 08:00:00</td>\n",
       "      <td>Good</td>\n",
       "      <td>1380.0</td>\n",
       "    </tr>\n",
       "    <tr>\n",
       "      <th>1067</th>\n",
       "      <td>2017-11-04 16:00:00</td>\n",
       "      <td>Bad</td>\n",
       "      <td>2834.0</td>\n",
       "    </tr>\n",
       "  </tbody>\n",
       "</table>\n",
       "<p>1068 rows × 3 columns</p>\n",
       "</div>"
      ],
      "text/plain": [
       "                 start_ts weather_conditions  duration_seconds\n",
       "0     2017-11-25 16:00:00               Good            2410.0\n",
       "1     2017-11-25 14:00:00               Good            1920.0\n",
       "2     2017-11-25 12:00:00               Good            1543.0\n",
       "3     2017-11-04 10:00:00               Good            2512.0\n",
       "4     2017-11-11 07:00:00               Good            1440.0\n",
       "...                   ...                ...               ...\n",
       "1063  2017-11-25 11:00:00               Good               0.0\n",
       "1064  2017-11-11 10:00:00               Good            1318.0\n",
       "1065  2017-11-11 13:00:00               Good            2100.0\n",
       "1066  2017-11-11 08:00:00               Good            1380.0\n",
       "1067  2017-11-04 16:00:00                Bad            2834.0\n",
       "\n",
       "[1068 rows x 3 columns]"
      ]
     },
     "metadata": {},
     "output_type": "display_data"
    }
   ],
   "source": [
    "# Load the dataframe\n",
    "ride_data=pd.read_csv('/datasets/project_sql_result_07.csv')\n",
    "display(ride_data)"
   ]
  },
  {
   "cell_type": "markdown",
   "metadata": {},
   "source": [
    "The ride_data dataframe consists of 1068 rows and 3 columns. The columns denotes:\n",
    "- start_ts : pickup date and time\n",
    "- weather_conditions :weather conditions at the moment the ride started\n",
    "- duration_seconds: ride duration in seconds"
   ]
  },
  {
   "cell_type": "markdown",
   "metadata": {},
   "source": [
    "In this stage we import the libraries needed and load all the dataframes."
   ]
  },
  {
   "cell_type": "markdown",
   "metadata": {},
   "source": [
    "### Second stage: Data preprocessing\n",
    "In this stage, we preprocess the data and deal with the missing values. Then,check whether there are any duplicates in the data."
   ]
  },
  {
   "cell_type": "code",
   "execution_count": 28,
   "metadata": {},
   "outputs": [
    {
     "name": "stdout",
     "output_type": "stream",
     "text": [
      "<class 'pandas.core.frame.DataFrame'>\n",
      "RangeIndex: 64 entries, 0 to 63\n",
      "Data columns (total 2 columns):\n",
      " #   Column        Non-Null Count  Dtype \n",
      "---  ------        --------------  ----- \n",
      " 0   company_name  64 non-null     object\n",
      " 1   trips_amount  64 non-null     int64 \n",
      "dtypes: int64(1), object(1)\n",
      "memory usage: 1.1+ KB\n"
     ]
    }
   ],
   "source": [
    "# Checking df\n",
    "df.info()"
   ]
  },
  {
   "cell_type": "markdown",
   "metadata": {},
   "source": [
    "The df consists of 64 non_null rows and data type is appropriate."
   ]
  },
  {
   "cell_type": "code",
   "execution_count": 29,
   "metadata": {},
   "outputs": [
    {
     "data": {
      "text/plain": [
       "company_name    0\n",
       "trips_amount    0\n",
       "dtype: int64"
      ]
     },
     "execution_count": 29,
     "metadata": {},
     "output_type": "execute_result"
    }
   ],
   "source": [
    "#Recheck for missing values\n",
    "df.isnull().sum()"
   ]
  },
  {
   "cell_type": "markdown",
   "metadata": {},
   "source": [
    "The above result shows there is no missing values in the dataframe."
   ]
  },
  {
   "cell_type": "code",
   "execution_count": 30,
   "metadata": {},
   "outputs": [
    {
     "data": {
      "text/plain": [
       "0"
      ]
     },
     "execution_count": 30,
     "metadata": {},
     "output_type": "execute_result"
    }
   ],
   "source": [
    "#Checking duplicates\n",
    "df.duplicated().sum()"
   ]
  },
  {
   "cell_type": "markdown",
   "metadata": {},
   "source": [
    "The above result shows no duplicated rows in the dataframe."
   ]
  },
  {
   "cell_type": "code",
   "execution_count": 31,
   "metadata": {},
   "outputs": [
    {
     "name": "stdout",
     "output_type": "stream",
     "text": [
      "<class 'pandas.core.frame.DataFrame'>\n",
      "RangeIndex: 94 entries, 0 to 93\n",
      "Data columns (total 2 columns):\n",
      " #   Column                 Non-Null Count  Dtype  \n",
      "---  ------                 --------------  -----  \n",
      " 0   dropoff_location_name  94 non-null     object \n",
      " 1   average_trips          94 non-null     float64\n",
      "dtypes: float64(1), object(1)\n",
      "memory usage: 1.6+ KB\n"
     ]
    }
   ],
   "source": [
    "#Checking dropoff data\n",
    "dropoff_data.info()"
   ]
  },
  {
   "cell_type": "markdown",
   "metadata": {},
   "source": [
    "The dropoff data consists of 94 non null rows the average number of rides is float64 datatype. The number of rides will be an integer number. Therfore convert average number of rides to int datatype."
   ]
  },
  {
   "cell_type": "code",
   "execution_count": 32,
   "metadata": {},
   "outputs": [],
   "source": [
    "# Convert the datatype\n",
    "dropoff_data['average_trips'] = dropoff_data['average_trips'].astype(int)"
   ]
  },
  {
   "cell_type": "code",
   "execution_count": 33,
   "metadata": {},
   "outputs": [
    {
     "data": {
      "text/plain": [
       "dropoff_location_name    0\n",
       "average_trips            0\n",
       "dtype: int64"
      ]
     },
     "execution_count": 33,
     "metadata": {},
     "output_type": "execute_result"
    }
   ],
   "source": [
    "#Recheck for missing values\n",
    "dropoff_data.isnull().sum()"
   ]
  },
  {
   "cell_type": "markdown",
   "metadata": {},
   "source": [
    "The above result shows there is no missing values in the dataframe."
   ]
  },
  {
   "cell_type": "code",
   "execution_count": 34,
   "metadata": {},
   "outputs": [
    {
     "data": {
      "text/plain": [
       "0"
      ]
     },
     "execution_count": 34,
     "metadata": {},
     "output_type": "execute_result"
    }
   ],
   "source": [
    "#Checking duplicates\n",
    "dropoff_data.duplicated().sum()"
   ]
  },
  {
   "cell_type": "markdown",
   "metadata": {},
   "source": [
    "The above result shows no duplicated rows in the dataframe."
   ]
  },
  {
   "cell_type": "code",
   "execution_count": 35,
   "metadata": {},
   "outputs": [
    {
     "name": "stdout",
     "output_type": "stream",
     "text": [
      "<class 'pandas.core.frame.DataFrame'>\n",
      "RangeIndex: 1068 entries, 0 to 1067\n",
      "Data columns (total 3 columns):\n",
      " #   Column              Non-Null Count  Dtype  \n",
      "---  ------              --------------  -----  \n",
      " 0   start_ts            1068 non-null   object \n",
      " 1   weather_conditions  1068 non-null   object \n",
      " 2   duration_seconds    1068 non-null   float64\n",
      "dtypes: float64(1), object(2)\n",
      "memory usage: 25.2+ KB\n"
     ]
    }
   ],
   "source": [
    "#Checking ride data\n",
    "ride_data.info()"
   ]
  },
  {
   "cell_type": "markdown",
   "metadata": {},
   "source": [
    "The ride data consists of 1068 non null rows and datatypes are for start_ts(pick up date and time) is object type. We should convert it to daetime type."
   ]
  },
  {
   "cell_type": "code",
   "execution_count": 36,
   "metadata": {},
   "outputs": [],
   "source": [
    "#Convert the datatype\n",
    "ride_data['start_ts']=pd.to_datetime(ride_data['start_ts'])"
   ]
  },
  {
   "cell_type": "code",
   "execution_count": 37,
   "metadata": {},
   "outputs": [
    {
     "data": {
      "text/plain": [
       "start_ts              0\n",
       "weather_conditions    0\n",
       "duration_seconds      0\n",
       "dtype: int64"
      ]
     },
     "execution_count": 37,
     "metadata": {},
     "output_type": "execute_result"
    }
   ],
   "source": [
    "#Recheck for missing values\n",
    "ride_data.isnull().sum()"
   ]
  },
  {
   "cell_type": "markdown",
   "metadata": {},
   "source": [
    "The above result shows there is no missing values in the dataframe."
   ]
  },
  {
   "cell_type": "code",
   "execution_count": 38,
   "metadata": {},
   "outputs": [
    {
     "data": {
      "text/plain": [
       "197"
      ]
     },
     "execution_count": 38,
     "metadata": {},
     "output_type": "execute_result"
    }
   ],
   "source": [
    "#Checking duplicates\n",
    "ride_data.duplicated().sum()"
   ]
  },
  {
   "cell_type": "markdown",
   "metadata": {},
   "source": [
    "The above result shows 197 rows are duplicated in the above dataframe. The values having same pickup points maybe different customers or maybe an error due to dataentry, humanerrors etc. For our further analysis we drop this duplicates. "
   ]
  },
  {
   "cell_type": "code",
   "execution_count": 39,
   "metadata": {},
   "outputs": [],
   "source": [
    "# Remove duplicates\n",
    "ride_data=ride_data.drop_duplicates()"
   ]
  },
  {
   "cell_type": "markdown",
   "metadata": {},
   "source": [
    "In this stage, we preprocess the data for analysis. We change the datatypes to appropriate form, check whether any duplicated values, any missing values etc. "
   ]
  },
  {
   "cell_type": "markdown",
   "metadata": {},
   "source": [
    "### Third Stage: Exploratory data analysis\n",
    "In this stage, we analyze the data and find the pattern of users. We want to find the top 10 companies having highest average number of rides and plot the data. Also find the top 10 neighbourhood locations."
   ]
  },
  {
   "cell_type": "code",
   "execution_count": 40,
   "metadata": {},
   "outputs": [
    {
     "name": "stdout",
     "output_type": "stream",
     "text": [
      "  dropoff_location_name  average_trips\n",
      "0                  Loop          10727\n",
      "1           River North           9523\n",
      "2         Streeterville           6664\n",
      "3             West Loop           5163\n",
      "4                O'Hare           2546\n",
      "5             Lake View           2420\n",
      "6            Grant Park           2068\n",
      "7         Museum Campus           1510\n",
      "8            Gold Coast           1364\n",
      "9    Sheffield & DePaul           1259\n"
     ]
    }
   ],
   "source": [
    "#identify the top 10 neighborhoods in terms of drop-offs\n",
    "top_10_neighborhoods=dropoff_data.sort_values(by='average_trips',ascending=False).head(10)\n",
    "print(top_10_neighborhoods)"
   ]
  },
  {
   "cell_type": "code",
   "execution_count": 41,
   "metadata": {},
   "outputs": [
    {
     "data": {
      "image/png": "[encoded data removed]",
      "text/plain": [
       "<Figure size 640x480 with 1 Axes>"
      ]
     },
     "metadata": {},
     "output_type": "display_data"
    }
   ],
   "source": [
    "#Plot the data\n",
    "top_10_neighborhoods.set_index('dropoff_location_name').plot(kind='bar',color='green', title='Top 10 neighborhoods locations with highest number of rides',legend=False)\n",
    "plt.xlabel('Dropoff location name')\n",
    "plt.ylabel('Number of rides')\n",
    "plt.xticks(rotation=45, ha='right')\n",
    "plt.show()"
   ]
  },
  {
   "cell_type": "markdown",
   "metadata": {},
   "source": [
    "The above result and plot shows the top ten neighbourhood locations interms of dropoff. The highest dropoff locations are Loop,  River North etc which shows the nearby area of downtown. People prefer dropoff in downtowns may be because of parking difficulties or may be due to traffic."
   ]
  },
  {
   "cell_type": "code",
   "execution_count": 42,
   "metadata": {},
   "outputs": [
    {
     "name": "stdout",
     "output_type": "stream",
     "text": [
      "                        company_name  trips_amount\n",
      "0                          Flash Cab         19558\n",
      "1          Taxi Affiliation Services         11422\n",
      "2                  Medallion Leasing         10367\n",
      "3                         Yellow Cab          9888\n",
      "4    Taxi Affiliation Service Yellow          9299\n",
      "5          Chicago Carriage Cab Corp          9181\n",
      "6                       City Service          8448\n",
      "7                           Sun Taxi          7701\n",
      "8          Star North Management LLC          7455\n",
      "9  Blue Ribbon Taxi Association Inc.          5953\n"
     ]
    }
   ],
   "source": [
    "#Top 10 companies\n",
    "top_10_companies=df.sort_values(by='trips_amount',ascending=False).head(10)\n",
    "print(top_10_companies)"
   ]
  },
  {
   "cell_type": "code",
   "execution_count": 43,
   "metadata": {},
   "outputs": [
    {
     "data": {
      "image/png": "[encoded data removed]",
      "text/plain": [
       "<Figure size 640x480 with 1 Axes>"
      ]
     },
     "metadata": {},
     "output_type": "display_data"
    }
   ],
   "source": [
    "#Plot the data\n",
    "top_10_companies.set_index('company_name').plot(kind='bar',color='maroon',title='Top 10 companies with highest number of rides',legend=False)\n",
    "plt.xlabel('Company name')\n",
    "plt.ylabel('Number of rides')\n",
    "plt.xticks(rotation=45, ha='right')\n",
    "plt.show()"
   ]
  },
  {
   "cell_type": "markdown",
   "metadata": {},
   "source": [
    "The above result shows the top companies which offers highest number of rides.The reasons for customer's preference may be because of availability, better prices and offers, customer support etc."
   ]
  },
  {
   "cell_type": "markdown",
   "metadata": {},
   "source": [
    "In this stage we analyze the preprocessed data and find the top companies and top 10 dropoff locations to find the competitors and pattern of the rides."
   ]
  },
  {
   "cell_type": "markdown",
   "metadata": {},
   "source": [
    "### Fourth Stage:Testing the hypothesis \n",
    "In this stage we test the hypothesis"
   ]
  },
  {
   "cell_type": "code",
   "execution_count": 44,
   "metadata": {},
   "outputs": [],
   "source": [
    "# Average duration of rides on rainy Saturdays\n",
    "rainy_days =ride_data[(ride_data['start_ts'].dt.weekday==5)& (ride_data['weather_conditions']=='Bad')]\n",
    "rainy_duration=rainy_days['duration_seconds']"
   ]
  },
  {
   "cell_type": "code",
   "execution_count": 45,
   "metadata": {},
   "outputs": [],
   "source": [
    "# Average duration of rides on nonrainy Saturdays\n",
    "nonrainy_days =ride_data[(ride_data['start_ts'].dt.weekday==5)& (ride_data['weather_conditions']!='Bad')]\n",
    "nonrainy_duration=nonrainy_days['duration_seconds']"
   ]
  },
  {
   "cell_type": "markdown",
   "metadata": {},
   "source": [
    "Use t test to check the hypothesis."
   ]
  },
  {
   "cell_type": "code",
   "execution_count": 46,
   "metadata": {},
   "outputs": [
    {
     "name": "stdout",
     "output_type": "stream",
     "text": [
      "p-value: 9.126383933880083e-08\n",
      "We reject the null hypothesis\n"
     ]
    }
   ],
   "source": [
    "# Check the hypothesis.\n",
    "alpha=0.05\n",
    "results=st.ttest_ind(rainy_duration, nonrainy_duration, equal_var=False)\n",
    "print('p-value:', results.pvalue)\n",
    "if results.pvalue < alpha:\n",
    "    print('We reject the null hypothesis')\n",
    "else:\n",
    "    print('We cant reject the null hypothesis')"
   ]
  },
  {
   "cell_type": "markdown",
   "metadata": {},
   "source": [
    "The above result shows the rejection of null hypothesis. i.e, The average duration of rides  changes on rainy Saturdays."
   ]
  },
  {
   "cell_type": "code",
   "execution_count": null,
   "metadata": {},
   "outputs": [],
   "source": [
    "## Conclusion:\n",
    " In this project our aim is to find patterns in the available information of different ride sharing companies in Chicago and we want to understand the passenger preferences and the impact of external factors on rides. The project consists of different parts like:\n",
    " - Data intialization and loading\n",
    " - Data preprocessing\n",
    " - Exploratory data analysis\n",
    " - Testing the hypothesis\n",
    " \n",
    " In the first stage, we import all the important libraries and intialize the data. In the second stage we preprocess the data like convert the datatypes to appropriate form, check for missing and duplicated values etc. After this stage our data is clean and we can use it for further analysis.\n",
    " \n",
    " In the third stage we analyze the data and plot different patterns. The top companies with highest number of rides are Flash Cab, Tax Affliation Services etc and the reasons for customer's preference may be because of availability, better prices and offers, customer support etc. The highest dropoff locations are Loop,  River North etc which shows the nearby area of downtown. People prefer dropoff in downtowns may be because of parking difficulties or may be due to traffic.\n",
    " \n",
    " \n",
    "  In the fourth stage we test the hypothesis.  The null and alternative hypothesis are\n",
    "- H0 = The average duration of rides doesn't change on rainy Saturdays.\n",
    "- H1 = The average duration of rides changes on rainy Saturdays.\n",
    "\n",
    "After performing t test we reject the null hypthesis.  "
   ]
  }
 ],
 "metadata": {
  "ExecuteTimeLog": [
   {
    "duration": 160,
    "start_time": "2025-03-11T17:47:20.498Z"
   },
   {
    "duration": 291,
    "start_time": "2025-03-11T17:47:25.183Z"
   },
   {
    "duration": 17,
    "start_time": "2025-03-11T17:47:25.897Z"
   },
   {
    "duration": 9,
    "start_time": "2025-03-11T17:47:45.951Z"
   },
   {
    "duration": 36,
    "start_time": "2025-03-11T17:50:16.404Z"
   },
   {
    "duration": 9,
    "start_time": "2025-03-11T17:50:20.542Z"
   },
   {
    "duration": 16,
    "start_time": "2025-03-11T17:52:10.622Z"
   },
   {
    "duration": 9,
    "start_time": "2025-03-11T17:52:14.797Z"
   },
   {
    "duration": 5,
    "start_time": "2025-03-11T17:59:45.697Z"
   },
   {
    "duration": 5,
    "start_time": "2025-03-11T18:01:54.938Z"
   },
   {
    "duration": 2026,
    "start_time": "2025-03-11T18:05:57.700Z"
   },
   {
    "duration": 724,
    "start_time": "2025-03-11T18:06:15.789Z"
   },
   {
    "duration": 5,
    "start_time": "2025-03-11T18:07:01.042Z"
   },
   {
    "duration": 122,
    "start_time": "2025-03-11T18:07:03.817Z"
   },
   {
    "duration": 155,
    "start_time": "2025-03-11T18:08:11.976Z"
   },
   {
    "duration": 161,
    "start_time": "2025-03-11T18:10:20.723Z"
   },
   {
    "duration": 214,
    "start_time": "2025-03-11T18:10:48.909Z"
   },
   {
    "duration": 172,
    "start_time": "2025-03-11T18:11:13.328Z"
   },
   {
    "duration": 159,
    "start_time": "2025-03-11T18:11:36.145Z"
   },
   {
    "duration": 168,
    "start_time": "2025-03-11T18:11:59.029Z"
   },
   {
    "duration": 170,
    "start_time": "2025-03-11T18:12:14.119Z"
   },
   {
    "duration": 181,
    "start_time": "2025-03-11T18:12:35.946Z"
   },
   {
    "duration": 245,
    "start_time": "2025-03-11T18:13:46.905Z"
   },
   {
    "duration": 182,
    "start_time": "2025-03-11T18:13:57.810Z"
   },
   {
    "duration": 187,
    "start_time": "2025-03-11T18:14:57.014Z"
   },
   {
    "duration": 167,
    "start_time": "2025-03-11T18:16:01.352Z"
   },
   {
    "duration": 154,
    "start_time": "2025-03-11T18:16:24.762Z"
   },
   {
    "duration": 184,
    "start_time": "2025-03-11T18:20:12.862Z"
   },
   {
    "duration": 5,
    "start_time": "2025-03-11T18:20:45.422Z"
   },
   {
    "duration": 93,
    "start_time": "2025-03-11T18:20:46.072Z"
   },
   {
    "duration": 24,
    "start_time": "2025-03-11T18:21:38.763Z"
   },
   {
    "duration": 124,
    "start_time": "2025-03-11T18:22:13.305Z"
   },
   {
    "duration": 136,
    "start_time": "2025-03-11T18:22:49.949Z"
   },
   {
    "duration": 130,
    "start_time": "2025-03-11T18:23:11.327Z"
   },
   {
    "duration": 138,
    "start_time": "2025-03-11T18:23:19.907Z"
   },
   {
    "duration": 23,
    "start_time": "2025-03-11T18:25:48.668Z"
   },
   {
    "duration": 11,
    "start_time": "2025-03-11T18:26:06.583Z"
   },
   {
    "duration": 2500,
    "start_time": "2025-03-11T22:32:30.114Z"
   },
   {
    "duration": 22,
    "start_time": "2025-03-11T22:32:32.616Z"
   },
   {
    "duration": 10,
    "start_time": "2025-03-11T22:32:33.092Z"
   },
   {
    "duration": 28,
    "start_time": "2025-03-11T22:32:34.335Z"
   },
   {
    "duration": 14,
    "start_time": "2025-03-11T22:32:37.540Z"
   },
   {
    "duration": 58,
    "start_time": "2025-03-11T22:32:38.225Z"
   },
   {
    "duration": 9,
    "start_time": "2025-03-11T22:32:40.789Z"
   },
   {
    "duration": 13,
    "start_time": "2025-03-11T22:32:41.294Z"
   },
   {
    "duration": 7,
    "start_time": "2025-03-11T22:32:41.914Z"
   },
   {
    "duration": 6,
    "start_time": "2025-03-11T22:32:46.464Z"
   },
   {
    "duration": 207,
    "start_time": "2025-03-11T22:32:49.264Z"
   },
   {
    "duration": 5,
    "start_time": "2025-03-11T22:34:18.005Z"
   },
   {
    "duration": 6,
    "start_time": "2025-03-11T22:34:57.171Z"
   },
   {
    "duration": 12,
    "start_time": "2025-03-11T22:43:28.878Z"
   },
   {
    "duration": 10,
    "start_time": "2025-03-11T22:44:18.144Z"
   },
   {
    "duration": 14,
    "start_time": "2025-03-11T22:46:06.540Z"
   },
   {
    "duration": 5,
    "start_time": "2025-03-11T22:46:09.499Z"
   },
   {
    "duration": 6,
    "start_time": "2025-03-11T22:47:21.052Z"
   },
   {
    "duration": 6,
    "start_time": "2025-03-11T22:47:24.882Z"
   },
   {
    "duration": 6,
    "start_time": "2025-03-11T22:47:26.339Z"
   },
   {
    "duration": 7,
    "start_time": "2025-03-11T22:47:42.280Z"
   },
   {
    "duration": 8,
    "start_time": "2025-03-11T22:49:07.027Z"
   },
   {
    "duration": 406,
    "start_time": "2025-03-11T22:49:13.836Z"
   },
   {
    "duration": 6,
    "start_time": "2025-03-11T23:01:48.155Z"
   },
   {
    "duration": 411,
    "start_time": "2025-03-11T23:01:56.455Z"
   },
   {
    "duration": 300,
    "start_time": "2025-03-11T23:03:11.586Z"
   },
   {
    "duration": 3,
    "start_time": "2025-03-11T23:06:33.064Z"
   },
   {
    "duration": 23,
    "start_time": "2025-03-11T23:06:34.524Z"
   },
   {
    "duration": 9,
    "start_time": "2025-03-11T23:06:35.164Z"
   },
   {
    "duration": 13,
    "start_time": "2025-03-11T23:06:36.366Z"
   },
   {
    "duration": 10,
    "start_time": "2025-03-11T23:06:39.051Z"
   },
   {
    "duration": 15,
    "start_time": "2025-03-11T23:06:39.811Z"
   },
   {
    "duration": 24,
    "start_time": "2025-03-11T23:06:42.050Z"
   },
   {
    "duration": 17,
    "start_time": "2025-03-11T23:06:42.856Z"
   },
   {
    "duration": 6,
    "start_time": "2025-03-11T23:06:43.778Z"
   },
   {
    "duration": 5,
    "start_time": "2025-03-11T23:06:46.892Z"
   },
   {
    "duration": 227,
    "start_time": "2025-03-11T23:06:50.035Z"
   },
   {
    "duration": 5,
    "start_time": "2025-03-11T23:06:53.366Z"
   },
   {
    "duration": 7,
    "start_time": "2025-03-11T23:06:53.959Z"
   },
   {
    "duration": 7,
    "start_time": "2025-03-11T23:06:58.184Z"
   },
   {
    "duration": 7,
    "start_time": "2025-03-11T23:06:58.959Z"
   },
   {
    "duration": 28,
    "start_time": "2025-03-11T23:06:59.542Z"
   },
   {
    "duration": 3,
    "start_time": "2025-03-11T23:12:11.396Z"
   },
   {
    "duration": 18,
    "start_time": "2025-03-11T23:12:16.296Z"
   },
   {
    "duration": 2,
    "start_time": "2025-03-11T23:13:15.631Z"
   },
   {
    "duration": 5,
    "start_time": "2025-03-11T23:13:21.893Z"
   },
   {
    "duration": 4,
    "start_time": "2025-03-11T23:15:03.430Z"
   },
   {
    "duration": 15,
    "start_time": "2025-03-11T23:15:03.877Z"
   },
   {
    "duration": 15,
    "start_time": "2025-03-11T23:15:04.547Z"
   },
   {
    "duration": 12,
    "start_time": "2025-03-11T23:15:05.169Z"
   },
   {
    "duration": 9,
    "start_time": "2025-03-11T23:15:08.192Z"
   },
   {
    "duration": 13,
    "start_time": "2025-03-11T23:15:08.866Z"
   },
   {
    "duration": 8,
    "start_time": "2025-03-11T23:15:11.586Z"
   },
   {
    "duration": 10,
    "start_time": "2025-03-11T23:15:12.304Z"
   },
   {
    "duration": 6,
    "start_time": "2025-03-11T23:15:15.479Z"
   },
   {
    "duration": 165,
    "start_time": "2025-03-11T23:15:16.320Z"
   },
   {
    "duration": 4,
    "start_time": "2025-03-11T23:15:19.383Z"
   },
   {
    "duration": 164,
    "start_time": "2025-03-11T23:15:22.442Z"
   },
   {
    "duration": 18,
    "start_time": "2025-03-11T23:15:28.530Z"
   },
   {
    "duration": 4,
    "start_time": "2025-03-11T23:15:29.560Z"
   },
   {
    "duration": 10,
    "start_time": "2025-03-11T23:15:31.055Z"
   },
   {
    "duration": 13,
    "start_time": "2025-03-11T23:28:21.895Z"
   },
   {
    "duration": 94,
    "start_time": "2025-03-11T23:28:30.136Z"
   },
   {
    "duration": 10,
    "start_time": "2025-03-11T23:38:13.080Z"
   },
   {
    "duration": 25,
    "start_time": "2025-03-11T23:40:50.528Z"
   },
   {
    "duration": 4,
    "start_time": "2025-03-11T23:42:50.521Z"
   },
   {
    "duration": 15,
    "start_time": "2025-03-11T23:44:02.723Z"
   },
   {
    "duration": 2498,
    "start_time": "2025-03-12T00:44:21.263Z"
   },
   {
    "duration": 15,
    "start_time": "2025-03-12T00:44:23.764Z"
   },
   {
    "duration": 13,
    "start_time": "2025-03-12T00:44:25.538Z"
   },
   {
    "duration": 17,
    "start_time": "2025-03-12T00:44:27.411Z"
   },
   {
    "duration": 8,
    "start_time": "2025-03-12T00:44:31.188Z"
   },
   {
    "duration": 5,
    "start_time": "2025-03-12T00:44:39.266Z"
   },
   {
    "duration": 8,
    "start_time": "2025-03-12T00:44:45.120Z"
   },
   {
    "duration": 3,
    "start_time": "2025-03-12T00:48:12.968Z"
   },
   {
    "duration": 9,
    "start_time": "2025-03-12T00:48:24.636Z"
   },
   {
    "duration": 6,
    "start_time": "2025-03-12T00:48:50.934Z"
   },
   {
    "duration": 5,
    "start_time": "2025-03-12T00:49:18.567Z"
   },
   {
    "duration": 5,
    "start_time": "2025-03-12T00:49:59.291Z"
   },
   {
    "duration": 4,
    "start_time": "2025-03-12T00:53:19.868Z"
   },
   {
    "duration": 6,
    "start_time": "2025-03-12T00:53:47.007Z"
   },
   {
    "duration": 5,
    "start_time": "2025-03-12T00:54:26.819Z"
   },
   {
    "duration": 4,
    "start_time": "2025-03-12T00:58:44.484Z"
   },
   {
    "duration": 10,
    "start_time": "2025-03-12T00:59:03.118Z"
   },
   {
    "duration": 5,
    "start_time": "2025-03-12T00:59:12.008Z"
   },
   {
    "duration": 4,
    "start_time": "2025-03-12T00:59:21.555Z"
   },
   {
    "duration": 8,
    "start_time": "2025-03-12T01:02:21.179Z"
   },
   {
    "duration": 6,
    "start_time": "2025-03-12T01:08:34.519Z"
   },
   {
    "duration": 255,
    "start_time": "2025-03-12T01:08:42.977Z"
   },
   {
    "duration": 12,
    "start_time": "2025-03-12T01:16:55.761Z"
   },
   {
    "duration": 6,
    "start_time": "2025-03-12T01:17:02.192Z"
   },
   {
    "duration": 5,
    "start_time": "2025-03-12T01:17:26.073Z"
   },
   {
    "duration": 6,
    "start_time": "2025-03-12T01:17:26.569Z"
   },
   {
    "duration": 733,
    "start_time": "2025-03-12T01:29:11.754Z"
   },
   {
    "duration": 13,
    "start_time": "2025-03-12T01:29:12.489Z"
   },
   {
    "duration": 12,
    "start_time": "2025-03-12T01:29:15.561Z"
   },
   {
    "duration": 11,
    "start_time": "2025-03-12T01:29:18.520Z"
   },
   {
    "duration": 8,
    "start_time": "2025-03-12T01:29:21.315Z"
   },
   {
    "duration": 5,
    "start_time": "2025-03-12T01:29:24.056Z"
   },
   {
    "duration": 4,
    "start_time": "2025-03-12T01:29:25.302Z"
   },
   {
    "duration": 9,
    "start_time": "2025-03-12T01:29:28.300Z"
   },
   {
    "duration": 3,
    "start_time": "2025-03-12T01:29:31.120Z"
   },
   {
    "duration": 5,
    "start_time": "2025-03-12T01:29:33.498Z"
   },
   {
    "duration": 4,
    "start_time": "2025-03-12T01:29:36.451Z"
   },
   {
    "duration": 5,
    "start_time": "2025-03-12T01:29:41.793Z"
   },
   {
    "duration": 5,
    "start_time": "2025-03-12T01:29:42.437Z"
   },
   {
    "duration": 6,
    "start_time": "2025-03-12T01:29:44.897Z"
   },
   {
    "duration": 4,
    "start_time": "2025-03-12T01:29:47.965Z"
   },
   {
    "duration": 5,
    "start_time": "2025-03-12T01:29:50.335Z"
   },
   {
    "duration": 139,
    "start_time": "2025-03-12T01:29:52.164Z"
   },
   {
    "duration": 6,
    "start_time": "2025-03-12T01:29:55.506Z"
   },
   {
    "duration": 180,
    "start_time": "2025-03-12T01:29:57.912Z"
   },
   {
    "duration": 7,
    "start_time": "2025-03-12T01:30:09.375Z"
   },
   {
    "duration": 6,
    "start_time": "2025-03-12T01:30:10.782Z"
   },
   {
    "duration": 5,
    "start_time": "2025-03-12T01:30:14.885Z"
   },
   {
    "duration": 2571,
    "start_time": "2025-03-12T03:10:07.261Z"
   },
   {
    "duration": 18,
    "start_time": "2025-03-12T03:10:09.834Z"
   },
   {
    "duration": 15,
    "start_time": "2025-03-12T03:10:09.853Z"
   },
   {
    "duration": 16,
    "start_time": "2025-03-12T03:10:09.871Z"
   },
   {
    "duration": 19,
    "start_time": "2025-03-12T03:10:09.889Z"
   },
   {
    "duration": 6,
    "start_time": "2025-03-12T03:10:09.911Z"
   },
   {
    "duration": 5,
    "start_time": "2025-03-12T03:10:09.919Z"
   },
   {
    "duration": 9,
    "start_time": "2025-03-12T03:10:09.925Z"
   },
   {
    "duration": 2,
    "start_time": "2025-03-12T03:10:09.936Z"
   },
   {
    "duration": 8,
    "start_time": "2025-03-12T03:10:09.942Z"
   },
   {
    "duration": 5,
    "start_time": "2025-03-12T03:10:09.952Z"
   },
   {
    "duration": 49,
    "start_time": "2025-03-12T03:10:09.959Z"
   },
   {
    "duration": 4,
    "start_time": "2025-03-12T03:10:10.010Z"
   },
   {
    "duration": 6,
    "start_time": "2025-03-12T03:10:10.016Z"
   },
   {
    "duration": 5,
    "start_time": "2025-03-12T03:10:10.024Z"
   },
   {
    "duration": 4,
    "start_time": "2025-03-12T03:10:10.030Z"
   },
   {
    "duration": 4,
    "start_time": "2025-03-12T03:10:10.036Z"
   },
   {
    "duration": 175,
    "start_time": "2025-03-12T03:10:10.042Z"
   },
   {
    "duration": 5,
    "start_time": "2025-03-12T03:10:10.220Z"
   },
   {
    "duration": 187,
    "start_time": "2025-03-12T03:10:10.227Z"
   },
   {
    "duration": 6,
    "start_time": "2025-03-12T03:10:10.416Z"
   },
   {
    "duration": 4,
    "start_time": "2025-03-12T03:10:10.424Z"
   },
   {
    "duration": 5,
    "start_time": "2025-03-12T03:10:10.429Z"
   },
   {
    "duration": 3,
    "start_time": "2025-03-12T03:10:25.822Z"
   },
   {
    "duration": 11,
    "start_time": "2025-03-12T03:10:25.828Z"
   },
   {
    "duration": 9,
    "start_time": "2025-03-12T03:10:25.841Z"
   },
   {
    "duration": 12,
    "start_time": "2025-03-12T03:10:25.852Z"
   },
   {
    "duration": 8,
    "start_time": "2025-03-12T03:10:25.867Z"
   },
   {
    "duration": 6,
    "start_time": "2025-03-12T03:10:25.877Z"
   },
   {
    "duration": 4,
    "start_time": "2025-03-12T03:10:25.906Z"
   },
   {
    "duration": 11,
    "start_time": "2025-03-12T03:10:25.911Z"
   },
   {
    "duration": 6,
    "start_time": "2025-03-12T03:10:25.924Z"
   },
   {
    "duration": 6,
    "start_time": "2025-03-12T03:10:25.931Z"
   },
   {
    "duration": 5,
    "start_time": "2025-03-12T03:10:25.939Z"
   },
   {
    "duration": 9,
    "start_time": "2025-03-12T03:10:25.946Z"
   },
   {
    "duration": 4,
    "start_time": "2025-03-12T03:10:25.957Z"
   },
   {
    "duration": 43,
    "start_time": "2025-03-12T03:10:25.964Z"
   },
   {
    "duration": 6,
    "start_time": "2025-03-12T03:10:26.009Z"
   },
   {
    "duration": 6,
    "start_time": "2025-03-12T03:10:26.017Z"
   },
   {
    "duration": 5,
    "start_time": "2025-03-12T03:10:26.025Z"
   },
   {
    "duration": 208,
    "start_time": "2025-03-12T03:10:26.032Z"
   },
   {
    "duration": 7,
    "start_time": "2025-03-12T03:10:26.244Z"
   },
   {
    "duration": 236,
    "start_time": "2025-03-12T03:10:26.253Z"
   },
   {
    "duration": 13,
    "start_time": "2025-03-12T03:10:26.492Z"
   },
   {
    "duration": 6,
    "start_time": "2025-03-12T03:10:26.507Z"
   },
   {
    "duration": 6,
    "start_time": "2025-03-12T03:10:26.514Z"
   }
  ],
  "kernelspec": {
   "display_name": "Python 3 (ipykernel)",
   "language": "python",
   "name": "python3"
  },
  "language_info": {
   "codemirror_mode": {
    "name": "ipython",
    "version": 3
   },
   "file_extension": ".py",
   "mimetype": "text/x-python",
   "name": "python",
   "nbconvert_exporter": "python",
   "pygments_lexer": "ipython3",
   "version": "3.12.7"
  },
  "toc": {
   "base_numbering": 1,
   "nav_menu": {},
   "number_sections": true,
   "sideBar": true,
   "skip_h1_title": true,
   "title_cell": "Table of Contents",
   "title_sidebar": "Contents",
   "toc_cell": false,
   "toc_position": {},
   "toc_section_display": true,
   "toc_window_display": false
  }
 },
 "nbformat": 4,
 "nbformat_minor": 4
}
